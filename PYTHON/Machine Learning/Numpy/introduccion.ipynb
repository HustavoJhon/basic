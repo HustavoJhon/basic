import numpy as np 

np.array([10,20,30,40,50])

a = np.array([10,30,20,4,30])
